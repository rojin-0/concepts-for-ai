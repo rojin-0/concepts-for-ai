{
 "cells": [
  {
   "cell_type": "code",
   "execution_count": null,
   "metadata": {},
   "outputs": [
    {
     "name": "stdout",
     "output_type": "stream",
     "text": [
      "0    10\n",
      "1    20\n",
      "2    30\n",
      "3    40\n",
      "dtype: int64\n",
      "2.2.3\n"
     ]
    }
   ],
   "source": [
    "\n",
    "import pandas as pd\n",
    "# Creating a simple Series\n",
    "data = [10 , 20 , 30 , 40]\n",
    "series = pd.Series(data)\n",
    "print(series)\n"
   ]
  },
  {
   "cell_type": "code",
   "execution_count": 2,
   "metadata": {},
   "outputs": [
    {
     "name": "stdout",
     "output_type": "stream",
     "text": [
      "RangeIndex(start=0, stop=3, step=1)\n"
     ]
    }
   ],
   "source": [
    "series = pd.Series([10,20,30])\n",
    "print(series.index)"
   ]
  },
  {
   "cell_type": "code",
   "execution_count": 3,
   "metadata": {},
   "outputs": [
    {
     "name": "stdout",
     "output_type": "stream",
     "text": [
      "a    10\n",
      "b    20\n",
      "c    30\n",
      "dtype: int64\n"
     ]
    }
   ],
   "source": [
    "series = pd.Series([10 , 20 , 30], index=['a','b','c'])\n",
    "print(series)"
   ]
  },
  {
   "cell_type": "code",
   "execution_count": 4,
   "metadata": {},
   "outputs": [
    {
     "name": "stdout",
     "output_type": "stream",
     "text": [
      "DatetimeIndex(['2023-01-01', '2023-01-02', '2023-01-03'], dtype='datetime64[ns]', freq='D')\n",
      "2023-01-01    10\n",
      "2023-01-02    20\n",
      "2023-01-03    30\n",
      "Freq: D, dtype: int64\n"
     ]
    }
   ],
   "source": [
    "dates = pd.date_range('2023-01-01',periods=3)\n",
    "series = pd.Series([10,20,30], index=dates)\n",
    "print(dates)\n",
    "print(series)"
   ]
  },
  {
   "cell_type": "code",
   "execution_count": 5,
   "metadata": {},
   "outputs": [
    {
     "name": "stdout",
     "output_type": "stream",
     "text": [
      "  index  A\n",
      "0  row1  1\n",
      "1  row2  2\n"
     ]
    }
   ],
   "source": [
    "series.index = ['x','y','z']\n",
    "df = pd.DataFrame ({ 'A': [1 , 2]} , index =[ 'row1', 'row2'])\n",
    "df.reset_index ( inplace = True ) #converts index into column\n",
    "print(df)"
   ]
  },
  {
   "cell_type": "code",
   "execution_count": 6,
   "metadata": {},
   "outputs": [
    {
     "name": "stdout",
     "output_type": "stream",
     "text": [
      "            Bob           Sue\n",
      "0   I liked it.  Pretty good.\n",
      "1  It was awful        Bland.\n",
      "                    Bob           Sue\n",
      "Product A   I liked it.  Pretty good.\n",
      "Product B  It was awful        Bland.\n"
     ]
    }
   ],
   "source": [
    "df1 = pd.DataFrame({'Bob': ['I liked it.', 'It was awful'], 'Sue': ['Pretty good.', 'Bland.']})\n",
    "df2 = pd.DataFrame({'Bob': ['I liked it.', 'It was awful'], 'Sue': ['Pretty good.', 'Bland.']}, index=['Product A', 'Product B'])\n",
    "print(df1)\n",
    "print(df2)"
   ]
  },
  {
   "cell_type": "code",
   "execution_count": 30,
   "metadata": {},
   "outputs": [
    {
     "data": {
      "text/html": [
       "<div>\n",
       "<style scoped>\n",
       "    .dataframe tbody tr th:only-of-type {\n",
       "        vertical-align: middle;\n",
       "    }\n",
       "\n",
       "    .dataframe tbody tr th {\n",
       "        vertical-align: top;\n",
       "    }\n",
       "\n",
       "    .dataframe thead th {\n",
       "        text-align: right;\n",
       "    }\n",
       "</style>\n",
       "<table border=\"1\" class=\"dataframe\">\n",
       "  <thead>\n",
       "    <tr style=\"text-align: right;\">\n",
       "      <th></th>\n",
       "      <th>age</th>\n",
       "      <th>job</th>\n",
       "      <th>marital</th>\n",
       "      <th>education</th>\n",
       "      <th>default</th>\n",
       "      <th>balance</th>\n",
       "      <th>housing</th>\n",
       "      <th>loan</th>\n",
       "      <th>contact</th>\n",
       "      <th>day</th>\n",
       "      <th>month</th>\n",
       "      <th>duration</th>\n",
       "      <th>campaign</th>\n",
       "      <th>pdays</th>\n",
       "      <th>previous</th>\n",
       "      <th>poutcome</th>\n",
       "      <th>y</th>\n",
       "    </tr>\n",
       "  </thead>\n",
       "  <tbody>\n",
       "    <tr>\n",
       "      <th>45206</th>\n",
       "      <td>51</td>\n",
       "      <td>technician</td>\n",
       "      <td>married</td>\n",
       "      <td>tertiary</td>\n",
       "      <td>no</td>\n",
       "      <td>825</td>\n",
       "      <td>no</td>\n",
       "      <td>no</td>\n",
       "      <td>cellular</td>\n",
       "      <td>17</td>\n",
       "      <td>nov</td>\n",
       "      <td>977</td>\n",
       "      <td>3</td>\n",
       "      <td>-1</td>\n",
       "      <td>0</td>\n",
       "      <td>unknown</td>\n",
       "      <td>yes</td>\n",
       "    </tr>\n",
       "    <tr>\n",
       "      <th>45207</th>\n",
       "      <td>71</td>\n",
       "      <td>retired</td>\n",
       "      <td>divorced</td>\n",
       "      <td>primary</td>\n",
       "      <td>no</td>\n",
       "      <td>1729</td>\n",
       "      <td>no</td>\n",
       "      <td>no</td>\n",
       "      <td>cellular</td>\n",
       "      <td>17</td>\n",
       "      <td>nov</td>\n",
       "      <td>456</td>\n",
       "      <td>2</td>\n",
       "      <td>-1</td>\n",
       "      <td>0</td>\n",
       "      <td>unknown</td>\n",
       "      <td>yes</td>\n",
       "    </tr>\n",
       "    <tr>\n",
       "      <th>45208</th>\n",
       "      <td>72</td>\n",
       "      <td>retired</td>\n",
       "      <td>married</td>\n",
       "      <td>secondary</td>\n",
       "      <td>no</td>\n",
       "      <td>5715</td>\n",
       "      <td>no</td>\n",
       "      <td>no</td>\n",
       "      <td>cellular</td>\n",
       "      <td>17</td>\n",
       "      <td>nov</td>\n",
       "      <td>1127</td>\n",
       "      <td>5</td>\n",
       "      <td>184</td>\n",
       "      <td>3</td>\n",
       "      <td>success</td>\n",
       "      <td>yes</td>\n",
       "    </tr>\n",
       "    <tr>\n",
       "      <th>45209</th>\n",
       "      <td>57</td>\n",
       "      <td>blue-collar</td>\n",
       "      <td>married</td>\n",
       "      <td>secondary</td>\n",
       "      <td>no</td>\n",
       "      <td>668</td>\n",
       "      <td>no</td>\n",
       "      <td>no</td>\n",
       "      <td>telephone</td>\n",
       "      <td>17</td>\n",
       "      <td>nov</td>\n",
       "      <td>508</td>\n",
       "      <td>4</td>\n",
       "      <td>-1</td>\n",
       "      <td>0</td>\n",
       "      <td>unknown</td>\n",
       "      <td>no</td>\n",
       "    </tr>\n",
       "    <tr>\n",
       "      <th>45210</th>\n",
       "      <td>37</td>\n",
       "      <td>entrepreneur</td>\n",
       "      <td>married</td>\n",
       "      <td>secondary</td>\n",
       "      <td>no</td>\n",
       "      <td>2971</td>\n",
       "      <td>no</td>\n",
       "      <td>no</td>\n",
       "      <td>cellular</td>\n",
       "      <td>17</td>\n",
       "      <td>nov</td>\n",
       "      <td>361</td>\n",
       "      <td>2</td>\n",
       "      <td>188</td>\n",
       "      <td>11</td>\n",
       "      <td>other</td>\n",
       "      <td>no</td>\n",
       "    </tr>\n",
       "  </tbody>\n",
       "</table>\n",
       "</div>"
      ],
      "text/plain": [
       "       age           job   marital  education default  balance housing loan  \\\n",
       "45206   51    technician   married   tertiary      no      825      no   no   \n",
       "45207   71       retired  divorced    primary      no     1729      no   no   \n",
       "45208   72       retired   married  secondary      no     5715      no   no   \n",
       "45209   57   blue-collar   married  secondary      no      668      no   no   \n",
       "45210   37  entrepreneur   married  secondary      no     2971      no   no   \n",
       "\n",
       "         contact  day month  duration  campaign  pdays  previous poutcome    y  \n",
       "45206   cellular   17   nov       977         3     -1         0  unknown  yes  \n",
       "45207   cellular   17   nov       456         2     -1         0  unknown  yes  \n",
       "45208   cellular   17   nov      1127         5    184         3  success  yes  \n",
       "45209  telephone   17   nov       508         4     -1         0  unknown   no  \n",
       "45210   cellular   17   nov       361         2    188        11    other   no  "
      ]
     },
     "execution_count": 30,
     "metadata": {},
     "output_type": "execute_result"
    }
   ],
   "source": [
    "dataset = pd.read_csv(\"Datasets/bank.csv\")\n",
    "# dataset.head() #prints first 5 rows\n",
    "dataset.tail() #prints last 5 rows\n",
    "# dataset.info() #prints information about the dataset"
   ]
  },
  {
   "cell_type": "code",
   "execution_count": 33,
   "metadata": {},
   "outputs": [],
   "source": [
    "data = {'Name': ['Alice', 'Bob', 'Charlie'], 'City': ['New York', 'San Francisco', 'Los Angeles']}\n",
    "df = pd.DataFrame(data)\n",
    "df.to_csv('Datasets/output.csv', index=False); #writes the data to a csv file"
   ]
  },
  {
   "cell_type": "code",
   "execution_count": 35,
   "metadata": {},
   "outputs": [
    {
     "name": "stdout",
     "output_type": "stream",
     "text": [
      "df.head\n",
      "    Name  Age  Salary\n",
      "0  Alice   25   50000\n",
      "1    Bob   30   60000\n",
      "df.tail\n",
      "      Name  Age  Salary\n",
      "2  Charlie   35   70000\n",
      "df.info\n",
      "<class 'pandas.core.frame.DataFrame'>\n",
      "RangeIndex: 3 entries, 0 to 2\n",
      "Data columns (total 3 columns):\n",
      " #   Column  Non-Null Count  Dtype \n",
      "---  ------  --------------  ----- \n",
      " 0   Name    3 non-null      object\n",
      " 1   Age     3 non-null      int64 \n",
      " 2   Salary  3 non-null      int64 \n",
      "dtypes: int64(2), object(1)\n",
      "memory usage: 204.0+ bytes\n",
      "None\n",
      "df.describe\n",
      "        Age   Salary\n",
      "count   3.0      3.0\n",
      "mean   30.0  60000.0\n",
      "std     5.0  10000.0\n",
      "min    25.0  50000.0\n",
      "25%    27.5  55000.0\n",
      "50%    30.0  60000.0\n",
      "75%    32.5  65000.0\n",
      "max    35.0  70000.0\n",
      "The DataFrame has 3 rows and 3 columns.\n"
     ]
    }
   ],
   "source": [
    "# Sample DataFrame\n",
    "data = {\n",
    "\t'Name': ['Alice', 'Bob', 'Charlie'],\n",
    "\t'Age': [25, 30, 35],\n",
    "\t'Salary': [50000, 60000, 70000]\n",
    "}\n",
    "df = pd.DataFrame(data)\n",
    "# View the first two rows\n",
    "print(\"df.head\")\n",
    "print(df.head(2))\n",
    "# View the last row\n",
    "print(\"df.tail\")\n",
    "print(df.tail(1))\n",
    "# DataFrame information\n",
    "print(\"df.info\")\n",
    "print(df.info())\n",
    "# Summary statistics\n",
    "print(\"df.describe\")\n",
    "print(df.describe())\n",
    "# Check dimensions of the DataFrame\n",
    "print(f\"The DataFrame has {df.shape[0]} rows and {df.shape[1]} columns.\")"
   ]
  },
  {
   "cell_type": "code",
   "execution_count": null,
   "metadata": {},
   "outputs": [
    {
     "name": "stdout",
     "output_type": "stream",
     "text": [
      "0    25\n",
      "1    30\n",
      "2    35\n",
      "Name: Age, dtype: int64\n",
      "Name      Alice\n",
      "Age          25\n",
      "Salary    50000\n",
      "Name: 0, dtype: object\n",
      "      Name  Age  Salary\n",
      "2  Charlie   35   70000\n",
      "      Name  Age  Salary\n",
      "1      Bob   30   60000\n",
      "2  Charlie   35   70000\n",
      "      Name  Salary\n",
      "0    Alice   50000\n",
      "1      Bob   60000\n",
      "2  Charlie   70000\n",
      "      Name  Age\n",
      "0    Alice   25\n",
      "1      Bob   30\n",
      "2  Charlie   35\n",
      "      Name  Age  Salary\n",
      "0    Alice   25   50000\n",
      "2  Charlie   35   70000\n"
     ]
    }
   ],
   "source": [
    "data = {\n",
    "\t'Name': ['Alice', 'Bob', 'Charlie'],\n",
    "\t'Age': [25, 30, 35],\n",
    "\t'Salary': [50000, 60000, 70000]\n",
    "}\n",
    "df = pd.DataFrame(data)\n",
    "print(df[\"Age\"])\n",
    "# Select rows by numerical index\n",
    "print(df.iloc[0])\n",
    "# Select rows by condition\n",
    "print(df.loc[df[\"Age\"] >30])\n",
    "filteredRows = df[df[\"Age\"] > 28]\n",
    "print(filteredRows)\n",
    "\n",
    "#select only name and salry columns\n",
    "selected_columns = df[[\"Name\", \"Salary\"]]\n",
    "print(selected_columns)\n",
    "\n",
    "#drop salary column\n",
    "df_without_salary = df.drop(columns=[\"Salary\"])\n",
    "print(df_without_salary)\n",
    "#Drop the row with index 1 (Bob)\n",
    "df_without_bob = df.drop(index=1)\n",
    "print(df_without_bob)"
   ]
  },
  {
   "cell_type": "code",
   "execution_count": 46,
   "metadata": {},
   "outputs": [
    {
     "name": "stdout",
     "output_type": "stream",
     "text": [
      "      Name  Age  Salary   Bonus\n",
      "0    Alice   25   50000  5000.0\n",
      "1      Bob   30   60000  6000.0\n",
      "2  Charlie   35   70000  7000.0\n"
     ]
    }
   ],
   "source": [
    "data = {\n",
    "\t'Name': ['Alice', 'Bob', 'Charlie'],\n",
    "\t'Age': [25, 30, 35],\n",
    "\t'Salary': [50000, 60000, 70000]\n",
    "}\n",
    "df = pd.DataFrame(data)\n",
    "\n",
    "# Add new column for bonus\n",
    "df[\"Bonus\"] = df[\"Salary\"] * 0.1\n",
    "print(df)"
   ]
  },
  {
   "cell_type": "code",
   "execution_count": 51,
   "metadata": {},
   "outputs": [
    {
     "name": "stdout",
     "output_type": "stream",
     "text": [
      "Iris Dataset:      sepal length (cm)  sepal width (cm)  petal length (cm)  petal width (cm)  \\\n",
      "0                  5.1               3.5                1.4               0.2   \n",
      "1                  4.9               3.0                1.4               0.2   \n",
      "2                  4.7               3.2                1.3               0.2   \n",
      "3                  4.6               3.1                1.5               0.2   \n",
      "4                  5.0               3.6                1.4               0.2   \n",
      "..                 ...               ...                ...               ...   \n",
      "145                6.7               3.0                5.2               2.3   \n",
      "146                6.3               2.5                5.0               1.9   \n",
      "147                6.5               3.0                5.2               2.0   \n",
      "148                6.2               3.4                5.4               2.3   \n",
      "149                5.9               3.0                5.1               1.8   \n",
      "\n",
      "     target  \n",
      "0       0.0  \n",
      "1       0.0  \n",
      "2       0.0  \n",
      "3       0.0  \n",
      "4       0.0  \n",
      "..      ...  \n",
      "145     2.0  \n",
      "146     2.0  \n",
      "147     2.0  \n",
      "148     2.0  \n",
      "149     2.0  \n",
      "\n",
      "[150 rows x 5 columns]\n",
      "Missing Values in Iris Dataset:\n",
      "sepal length (cm)    15\n",
      "sepal width (cm)     15\n",
      "petal length (cm)    19\n",
      "petal width (cm)     15\n",
      "target               19\n",
      "dtype: int64\n"
     ]
    }
   ],
   "source": [
    "\n",
    "\n",
    "\n",
    "from sklearn.datasets import load_iris\n",
    "import numpy as np\n",
    "\n",
    "iris = load_iris() # Load the Iris dataset\n",
    "iris_df = pd.DataFrame(data=np.c_[iris['data'], iris['target']], columns=iris['feature_names'] + ['target'])\n",
    "print(\"Iris Dataset:\" ,iris_df)\n",
    "np.random.seed(42) # Introduce missing values randomly\n",
    "mask = np.random.rand(*iris_df.shape) < 0.1 # 10%\n",
    "iris_df[mask] = np.nan\n",
    "\n",
    "print(\"Missing Values in Iris Dataset:\")\n",
    "print(iris_df.isnull().sum())"
   ]
  },
  {
   "cell_type": "code",
   "execution_count": null,
   "metadata": {},
   "outputs": [
    {
     "name": "stdout",
     "output_type": "stream",
     "text": [
      "Index(['job', 'marital', 'education', 'default', 'housing', 'loan', 'contact',\n",
      "       'month', 'poutcome', 'y'],\n",
      "      dtype='object')\n",
      "job: 12 unique values\n",
      "marital: 3 unique values\n",
      "education: 4 unique values\n",
      "default: 2 unique values\n",
      "housing: 2 unique values\n",
      "loan: 2 unique values\n",
      "contact: 3 unique values\n",
      "month: 12 unique values\n",
      "poutcome: 4 unique values\n",
      "y: 2 unique values\n",
      "age          0\n",
      "job          0\n",
      "marital      0\n",
      "education    0\n",
      "default      0\n",
      "balance      0\n",
      "housing      0\n",
      "loan         0\n",
      "contact      0\n",
      "day          0\n",
      "month        0\n",
      "duration     0\n",
      "campaign     0\n",
      "pdays        0\n",
      "previous     0\n",
      "poutcome     0\n",
      "y            0\n",
      "dtype: int64\n"
     ]
    }
   ],
   "source": [
    "# worksheet 1\n",
    "#1.1\n",
    "df = pd.read_csv(\"Datasets/bank.csv\")\n",
    "#1.2.1\n",
    "#columns with dtypes=object\n",
    "print(df.select_dtypes(include='object').columns)\n",
    "#1.2.2\n",
    "for col in df.select_dtypes(include='object'):\n",
    "    print(f\"{col}: {df[col].nunique()} unique values\")\n",
    "#1.2.3\n",
    "print(df.isnull().sum()) "
   ]
  },
  {
   "cell_type": "code",
   "execution_count": 78,
   "metadata": {},
   "outputs": [
    {
     "name": "stdout",
     "output_type": "stream",
     "text": [
      "       age  balance  day  duration  campaign  pdays  previous\n",
      "0       58     2143    5       261         1     -1         0\n",
      "1       44       29    5       151         1     -1         0\n",
      "2       33        2    5        76         1     -1         0\n",
      "3       47     1506    5        92         1     -1         0\n",
      "4       33        1    5       198         1     -1         0\n",
      "...    ...      ...  ...       ...       ...    ...       ...\n",
      "45206   51      825   17       977         3     -1         0\n",
      "45207   71     1729   17       456         2     -1         0\n",
      "45208   72     5715   17      1127         5    184         3\n",
      "45209   57      668   17       508         4     -1         0\n",
      "45210   37     2971   17       361         2    188        11\n",
      "\n",
      "[45211 rows x 7 columns]\n",
      "                age        balance           day      duration      campaign  \\\n",
      "count  45211.000000   45211.000000  45211.000000  45211.000000  45211.000000   \n",
      "mean      40.936210    1362.272058     15.806419    258.163080      2.763841   \n",
      "std       10.618762    3044.765829      8.322476    257.527812      3.098021   \n",
      "min       18.000000   -8019.000000      1.000000      0.000000      1.000000   \n",
      "25%       33.000000      72.000000      8.000000    103.000000      1.000000   \n",
      "50%       39.000000     448.000000     16.000000    180.000000      2.000000   \n",
      "75%       48.000000    1428.000000     21.000000    319.000000      3.000000   \n",
      "max       95.000000  102127.000000     31.000000   4918.000000     63.000000   \n",
      "\n",
      "              pdays      previous  \n",
      "count  45211.000000  45211.000000  \n",
      "mean      40.197828      0.580323  \n",
      "std      100.128746      2.303441  \n",
      "min       -1.000000      0.000000  \n",
      "25%       -1.000000      0.000000  \n",
      "50%       -1.000000      0.000000  \n",
      "75%       -1.000000      0.000000  \n",
      "max      871.000000    275.000000  \n"
     ]
    }
   ],
   "source": [
    "# 1.3\n",
    "df_withno_dtype_object = df.drop(columns=df.select_dtypes(include='object'))\n",
    "\n",
    "print(df_withno_dtype_object)\n",
    "df_withno_dtype_object.to_csv('Datasets/banknumericdata.csv',index=False)\n",
    "\n",
    "df = pd.read_csv(\"Datasets/banknumericdata.csv\")\n",
    "print(df.describe())\n"
   ]
  },
  {
   "cell_type": "code",
   "execution_count": null,
   "metadata": {},
   "outputs": [
    {
     "name": "stdout",
     "output_type": "stream",
     "text": [
      "<class 'pandas.core.frame.DataFrame'>\n",
      "RangeIndex: 200000 entries, 0 to 199999\n",
      "Data columns (total 13 columns):\n",
      " #   Column          Non-Null Count   Dtype  \n",
      "---  ------          --------------   -----  \n",
      " 0   Student ID      180000 non-null  float64\n",
      " 1   Age             180000 non-null  float64\n",
      " 2   Gender          180000 non-null  object \n",
      " 3   Height          180000 non-null  float64\n",
      " 4   Weight          180000 non-null  float64\n",
      " 5   Blood Type      180000 non-null  object \n",
      " 6   BMI             180000 non-null  float64\n",
      " 7   Temperature     180000 non-null  float64\n",
      " 8   Heart Rate      180000 non-null  float64\n",
      " 9   Blood Pressure  180000 non-null  float64\n",
      " 10  Cholesterol     180000 non-null  float64\n",
      " 11  Diabetes        180000 non-null  object \n",
      " 12  Smoking         180000 non-null  object \n",
      "dtypes: float64(9), object(4)\n",
      "memory usage: 19.8+ MB\n",
      "None\n",
      "Student ID        20000\n",
      "Age               20000\n",
      "Gender            20000\n",
      "Height            20000\n",
      "Weight            20000\n",
      "Blood Type        20000\n",
      "BMI               20000\n",
      "Temperature       20000\n",
      "Heart Rate        20000\n",
      "Blood Pressure    20000\n",
      "Cholesterol       20000\n",
      "Diabetes          20000\n",
      "Smoking           20000\n",
      "dtype: int64\n",
      "Student ID        0\n",
      "Age               0\n",
      "Gender            0\n",
      "Height            0\n",
      "Weight            0\n",
      "Blood Type        0\n",
      "BMI               0\n",
      "Temperature       1\n",
      "Heart Rate        0\n",
      "Blood Pressure    0\n",
      "Cholesterol       0\n",
      "Diabetes          0\n",
      "Smoking           1\n",
      "dtype: int64\n"
     ]
    },
    {
     "name": "stderr",
     "output_type": "stream",
     "text": [
      "C:\\Users\\aadil\\AppData\\Local\\Temp\\ipykernel_31720\\4172829091.py:14: FutureWarning: DataFrame.fillna with 'method' is deprecated and will raise in a future version. Use obj.ffill() or obj.bfill() instead.\n",
      "  df.fillna(method='ffill', inplace=True)\n"
     ]
    },
    {
     "name": "stdout",
     "output_type": "stream",
     "text": [
      "duplicate 12112\n",
      "after dropping duplicate 0\n"
     ]
    }
   ],
   "source": [
    "#2\n",
    "#2.1\n",
    "df = pd.read_csv(\"Datasets/medical_students_dataset.csv\")\n",
    "#2.2\n",
    "#Check info of the DataFrame and identify column with missing (null) values.\n",
    "print(df.info())\n",
    "\n",
    "#2.3\n",
    "\n",
    "print(df.isnull().sum())\n",
    "\n",
    "\n",
    "# Fill all missing values with forward fill method\n",
    "df.fillna(method='ffill', inplace=True)\n",
    "\n",
    "print(df.isnull().sum())\n",
    "\n",
    "# 2.4\n",
    "# Check for any duplicate values present in Dataset and do necessary to manage the duplicate items.\n",
    "print(\"duplicate\",df.duplicated().sum())\n",
    "df.drop_duplicates(inplace=True)\n",
    "print(\"after dropping duplicate\",df.duplicated().sum())\n",
    "\n"
   ]
  },
  {
   "cell_type": "code",
   "execution_count": null,
   "metadata": {},
   "outputs": [
    {
     "name": "stdout",
     "output_type": "stream",
     "text": [
      "                                                  Name  Pclass     Sex   Age  \\\n",
      "1    Cumings, Mrs. John Bradley (Florence Briggs Th...       1  female  38.0   \n",
      "3         Futrelle, Mrs. Jacques Heath (Lily May Peel)       1  female  35.0   \n",
      "6                              McCarthy, Mr. Timothy J       1    male  54.0   \n",
      "11                            Bonnell, Miss. Elizabeth       1  female  58.0   \n",
      "23                        Sloper, Mr. William Thompson       1    male  28.0   \n",
      "..                                                 ...     ...     ...   ...   \n",
      "871   Beckwith, Mrs. Richard Leonard (Sallie Monypeny)       1  female  47.0   \n",
      "872                           Carlsson, Mr. Frans Olof       1    male  33.0   \n",
      "879      Potter, Mrs. Thomas Jr (Lily Alexenia Wilson)       1  female  56.0   \n",
      "887                       Graham, Miss. Margaret Edith       1  female  19.0   \n",
      "889                              Behr, Mr. Karl Howell       1    male  26.0   \n",
      "\n",
      "        Fare  Survived  \n",
      "1    71.2833         1  \n",
      "3    53.1000         1  \n",
      "6    51.8625         0  \n",
      "11   26.5500         1  \n",
      "23   35.5000         1  \n",
      "..       ...       ...  \n",
      "871  52.5542         1  \n",
      "872   5.0000         0  \n",
      "879  83.1583         1  \n",
      "887  30.0000         1  \n",
      "889  30.0000         1  \n",
      "\n",
      "[216 rows x 6 columns]\n"
     ]
    }
   ],
   "source": [
    "# 3.1\n",
    "# Load the Titanic dataset\n",
    "titanic_data = pd.read_csv(\"Datasets/Titanic-Dataset.csv\")\n",
    "\n",
    "# Subset DataFrame and calculate statistics for 'Fare'\n",
    "subset_data = titanic_data[['Name', 'Pclass', 'Sex', 'Age', 'Fare', 'Survived']]\n",
    "first_class_data = subset_data[subset_data['Pclass'] == 1]\n",
    "fare_mean = first_class_data['Fare'].mean()\n",
    "fare_median = first_class_data['Fare'].median()\n",
    "fare_max = first_class_data['Fare'].max()\n",
    "fare_min = first_class_data['Fare'].min()\n",
    " \n",
    "\n",
    "# 3.2 Check for null values in 'Age' and drop rows with null 'Age'\n",
    "null_age_count = first_class_data['Age'].isnull().sum()\n",
    "cleaned_data = first_class_data.dropna(subset=['Age'])\n",
    "\n",
    "# 3.3 One-hot encoding for 'Embarked'\n",
    "embarked_onehot = pd.get_dummies(titanic_data['Embarked'], prefix='Embarked')\n",
    "titanic_data = pd.concat([titanic_data, embarked_onehot], axis=1)\n",
    "titanic_data.drop(columns=['Embarked'], inplace=True)\n",
    "\n",
    "\n",
    "\n"
   ]
  },
  {
   "cell_type": "code",
   "execution_count": 111,
   "metadata": {},
   "outputs": [
    {
     "data": {
      "image/png": "[encoded data removed]",
      "text/plain": [
       "<Figure size 640x480 with 1 Axes>"
      ]
     },
     "metadata": {},
     "output_type": "display_data"
    }
   ],
   "source": [
    "# QN4 Compare survival rates by gender\n",
    "import matplotlib.pyplot as plt\n",
    "\n",
    "# Group data by 'Sex' and calculate mean survival rates\n",
    "survival_by_gender = titanic_data.groupby('Sex')['Survived'].mean()\n",
    "\n",
    "# Create a bar chart for survival rates by gender using Matplotlib\n",
    "plt.bar(survival_by_gender.index, survival_by_gender.values, color=['blue', 'pink'])\n",
    "plt.title('Survival Rates by Gender')\n",
    "plt.xlabel('Gender')\n",
    "plt.ylabel('Survival Rate')\n",
    "plt.show()\n",
    "\n"
   ]
  },
  {
   "cell_type": "code",
   "execution_count": 110,
   "metadata": {},
   "outputs": [
    {
     "data": {
      "image/png": "[encoded data removed]",
      "text/plain": [
       "<Figure size 640x480 with 1 Axes>"
      ]
     },
     "metadata": {},
     "output_type": "display_data"
    }
   ],
   "source": [
    "#ON5\n",
    "survival_by_port = titanic_data.groupby(['Embarked_C', 'Embarked_Q', 'Embarked_S'])['Survived'].mean()\n",
    "\n",
    "# Calculate survival rates for each port of embarkation\n",
    "embarked_labels = ['Cherbourg', 'Queenstown', 'Southampton']\n",
    "survival_rates = [\n",
    "    titanic_data[titanic_data['Embarked_C'] == 1]['Survived'].mean(),\n",
    "    titanic_data[titanic_data['Embarked_Q'] == 1]['Survived'].mean(),\n",
    "    titanic_data[titanic_data['Embarked_S'] == 1]['Survived'].mean()\n",
    "]\n",
    "\n",
    "# Create a bar chart for survival rates by port\n",
    "plt.bar(embarked_labels, survival_rates, color=['green', 'orange', 'purple'])\n",
    "plt.title('Survival Rates by Port of Embarkation')\n",
    "plt.xlabel('Port')\n",
    "plt.ylabel('Survival Rate')\n",
    "plt.show()\n",
    "\n"
   ]
  }
 ],
 "metadata": {
  "kernelspec": {
   "display_name": "Python 3",
   "language": "python",
   "name": "python3"
  },
  "language_info": {
   "codemirror_mode": {
    "name": "ipython",
    "version": 3
   },
   "file_extension": ".py",
   "mimetype": "text/x-python",
   "name": "python",
   "nbconvert_exporter": "python",
   "pygments_lexer": "ipython3",
   "version": "3.12.6"
  }
 },
 "nbformat": 4,
 "nbformat_minor": 2
}
