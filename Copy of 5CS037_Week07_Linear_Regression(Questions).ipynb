{
 "cells": [
  {
   "cell_type": "markdown",
   "metadata": {
    "id": "DceHorhnGtZL"
   },
   "source": [
    "# Supervised Learning and Linear Models.\n",
    "## Instructions and Requirements:\n",
    "This week workshop will have two sections:\n",
    "\n",
    "*   Section-1: Multiple Linear Regression with Machine Learning Approach.\n",
    "  *   Objectives:\n",
    "      *   Understand the steps included in building Machine Learning Models.\n",
    "  *   Datasets:\n",
    "      *   \"student.csv\".\n",
    "  *   Learning Outcomes:\n",
    "      *   Get familiar with various steps in building Machine Learning Model.\n",
    "      *   Implement and build Multiple Linear Regression from Scratch with python and Numpy.\n",
    "*   Section-2: Introduction to SKLEARN.\n",
    "  *   Objectives:\n",
    "      *   Introduction of SKLEARN, a machine learning model building library.\n",
    "  *   Learning Outcomes:\n",
    "      *   Ger familiar with SKLEARN library.\n",
    "      \n",
    "## Requirements:\n",
    "Notebook Environment(Jupyter or Google Colab)\n",
    "\n",
    "*   Author: Siman Giri\n"
   ]
  },
  {
   "cell_type": "markdown",
   "metadata": {
    "id": "C2Gcxb-EMOrN"
   },
   "source": [
    "# Regression Algorithm.\n",
    "___\n",
    "\n",
    "The task of the Regression Algorithm is to find the $\\color{purple}{maping}$ function black to map the $\\color{black}{input}$ variable $\\textbf{(X)}$ to the continious output variable$\\textbf{(Y)}$.\n",
    "\n",
    "Regression analysis estimates the realtionship between a dependent variables and independent variables.\n",
    "In the class we talked about two different approach\n",
    "\n",
    "1.   Machine Learning Approach i.e Using Gradient Descent\n",
    "In this exercise you are expected to implement both the methods from scratch.\n"
   ]
  },
  {
   "cell_type": "markdown",
   "metadata": {
    "id": "si4xFjkzDn6V"
   },
   "source": [
    "# Section-1: Multiple Linear Regression With Machine Learning Approach.\n",
    "\n",
    "\n",
    "\n"
   ]
  },
  {
   "cell_type": "markdown",
   "metadata": {
    "id": "zeujUqB1Etrt"
   },
   "source": [
    "##Implement Multiple Linear Regression with Gradient Descent From scratch.\n",
    "\n",
    "Multiple Linear Regression is a type of Linear Regression when the input has multiple features ((variables)).Similar to Simple Linear Regression, we have input variable(X) and output variable(Y). But the input variable has nn features. Therefore, we can represent this linear model as follows;\n",
    "\\begin{align}\n",
    "        \\mathbf{Y} = \\theta_o + \\theta_1x_1 + \\theta_2x_2 + .....+ \\theta_nx_n\n",
    "    \\end{align}\n",
    "Rewriting the equation:where $x_0 = 1$:\n",
    "\\begin{align}\n",
    "        \\mathbf{Y} = \\theta_ox_0 + \\theta_1x_1 + \\theta_2x_2 + .....+ \\theta_nx_n\n",
    "    \\end{align}\n",
    "Convert the equation to matrix:\n",
    "\\begin{align}\n",
    "        \\mathbf{Y} = \\theta^T X + \\theta_0\n",
    "    \\end{align}\n",
    "where:\n",
    "\\begin{align}\n",
    "        \\mathbf{\\theta} = [\\theta_o, \\theta_1, ...., \\theta_n]^T\n",
    "    \\end{align}\n",
    "\\begin{align}\n",
    "        \\mathbf{X} = [x_o, x_1, ...., x_n]^T\n",
    "    \\end{align}\n",
    "\n",
    "Our function can now be defined as:\n",
    "\\begin{align}\n",
    "        \\mathbf{h_\\theta(.)}  = \\theta^T x\n",
    "    \\end{align}\n",
    "And the cost function will be:\n",
    "\\begin{align}\n",
    "        \\mathbf{J(\\theta)}  = \\frac{1}{2n} \\sum_{i=1}^n(h_\\theta(x_i) - y_i)^2\n",
    "    \\end{align}\n",
    "\n",
    "Implementation:\n",
    "\n",
    "Start with Necessary Imports:\n"
   ]
  },
  {
   "cell_type": "code",
   "execution_count": 26,
   "metadata": {
    "colab": {
     "base_uri": "https://localhost:8080/"
    },
    "executionInfo": {
     "elapsed": 3958,
     "status": "ok",
     "timestamp": 1734612561075,
     "user": {
      "displayName": "Prakriti Regmi",
      "userId": "06117812590282676112"
     },
     "user_tz": -345
    },
    "id": "2mWwiDPoecG-",
    "outputId": "9821b01a-28de-4265-f253-613132cd9be4"
   },
   "outputs": [
    {
     "ename": "ModuleNotFoundError",
     "evalue": "No module named 'google'",
     "output_type": "error",
     "traceback": [
      "\u001b[1;31m---------------------------------------------------------------------------\u001b[0m",
      "\u001b[1;31mModuleNotFoundError\u001b[0m                       Traceback (most recent call last)",
      "Cell \u001b[1;32mIn[26], line 1\u001b[0m\n\u001b[1;32m----> 1\u001b[0m \u001b[38;5;28;01mfrom\u001b[39;00m \u001b[38;5;21;01mgoogle\u001b[39;00m\u001b[38;5;21;01m.\u001b[39;00m\u001b[38;5;21;01mcolab\u001b[39;00m \u001b[38;5;28;01mimport\u001b[39;00m drive\n\u001b[0;32m      2\u001b[0m drive\u001b[38;5;241m.\u001b[39mmount(\u001b[38;5;124m'\u001b[39m\u001b[38;5;124m/content/drive\u001b[39m\u001b[38;5;124m'\u001b[39m)\n",
      "\u001b[1;31mModuleNotFoundError\u001b[0m: No module named 'google'"
     ]
    }
   ],
   "source": [
    "from google.colab import drive\n",
    "drive.mount('/content/drive')"
   ]
  },
  {
   "cell_type": "code",
   "execution_count": 27,
   "metadata": {
    "id": "oUJ5Mcr8DrPX"
   },
   "outputs": [],
   "source": [
    "path2 = \"student.csv\""
   ]
  },
  {
   "cell_type": "code",
   "execution_count": 28,
   "metadata": {
    "id": "cymxmx0SFitX"
   },
   "outputs": [],
   "source": [
    "# Necessary imports:\n",
    "import numpy as np\n",
    "import pandas as pd\n",
    "import matplotlib.pyplot as plt\n",
    "plt.rcParams['figure.figsize'] = (10.0, 10.0)"
   ]
  },
  {
   "cell_type": "markdown",
   "metadata": {
    "id": "cC4HPAgHGebF"
   },
   "source": [
    "## STEP-1: Define Decision Process.\n",
    "\n",
    "*   Objective of the Task:\n",
    "  *   To Predict the marks obtained in writing based on the marks of Math and Reading.\n",
    "*   Tasks to Do:\n",
    "  1.   Read and Observe the Dataset.\n",
    "  2.   Print top(5) and bottom(5) of the dataset {Hint: pd.head and pd.tail}.\n",
    "  3.   Print the Information of Datasets.\n",
    "  3.   Identify $\\color{red}{\\textbf{Dependent}}$ $\\color{red}{\\textbf{Variable}}$ and $\\color{red}{\\textbf{Independent}}$ $\\color{red}{\\textbf{Variable}}$.\n",
    "            *   {Hint: $\\textbf{Variables}$ depends on the $\\textbf{Objective}$ of the task.}\n",
    "  1.   Split the data into Independent and Dependent Arrays { Hint: Split and Convert pandas dataframe to numpy arrays-You can use df.to_numpy()}.\n",
    "  6. Visualize the dataset, Visualizing multi-variate dataset is not easy, In this particular case we can use special 3-D plot, Please go through the code."
   ]
  },
  {
   "cell_type": "code",
   "execution_count": 29,
   "metadata": {
    "id": "mR394XnFGZSK"
   },
   "outputs": [
    {
     "data": {
      "text/html": [
       "<div>\n",
       "<style scoped>\n",
       "    .dataframe tbody tr th:only-of-type {\n",
       "        vertical-align: middle;\n",
       "    }\n",
       "\n",
       "    .dataframe tbody tr th {\n",
       "        vertical-align: top;\n",
       "    }\n",
       "\n",
       "    .dataframe thead th {\n",
       "        text-align: right;\n",
       "    }\n",
       "</style>\n",
       "<table border=\"1\" class=\"dataframe\">\n",
       "  <thead>\n",
       "    <tr style=\"text-align: right;\">\n",
       "      <th></th>\n",
       "      <th>Math</th>\n",
       "      <th>Reading</th>\n",
       "      <th>Writing</th>\n",
       "    </tr>\n",
       "  </thead>\n",
       "  <tbody>\n",
       "    <tr>\n",
       "      <th>0</th>\n",
       "      <td>48</td>\n",
       "      <td>68</td>\n",
       "      <td>63</td>\n",
       "    </tr>\n",
       "    <tr>\n",
       "      <th>1</th>\n",
       "      <td>62</td>\n",
       "      <td>81</td>\n",
       "      <td>72</td>\n",
       "    </tr>\n",
       "    <tr>\n",
       "      <th>2</th>\n",
       "      <td>79</td>\n",
       "      <td>80</td>\n",
       "      <td>78</td>\n",
       "    </tr>\n",
       "    <tr>\n",
       "      <th>3</th>\n",
       "      <td>76</td>\n",
       "      <td>83</td>\n",
       "      <td>79</td>\n",
       "    </tr>\n",
       "    <tr>\n",
       "      <th>4</th>\n",
       "      <td>59</td>\n",
       "      <td>64</td>\n",
       "      <td>62</td>\n",
       "    </tr>\n",
       "    <tr>\n",
       "      <th>...</th>\n",
       "      <td>...</td>\n",
       "      <td>...</td>\n",
       "      <td>...</td>\n",
       "    </tr>\n",
       "    <tr>\n",
       "      <th>995</th>\n",
       "      <td>72</td>\n",
       "      <td>74</td>\n",
       "      <td>70</td>\n",
       "    </tr>\n",
       "    <tr>\n",
       "      <th>996</th>\n",
       "      <td>73</td>\n",
       "      <td>86</td>\n",
       "      <td>90</td>\n",
       "    </tr>\n",
       "    <tr>\n",
       "      <th>997</th>\n",
       "      <td>89</td>\n",
       "      <td>87</td>\n",
       "      <td>94</td>\n",
       "    </tr>\n",
       "    <tr>\n",
       "      <th>998</th>\n",
       "      <td>83</td>\n",
       "      <td>82</td>\n",
       "      <td>78</td>\n",
       "    </tr>\n",
       "    <tr>\n",
       "      <th>999</th>\n",
       "      <td>66</td>\n",
       "      <td>66</td>\n",
       "      <td>72</td>\n",
       "    </tr>\n",
       "  </tbody>\n",
       "</table>\n",
       "<p>1000 rows × 3 columns</p>\n",
       "</div>"
      ],
      "text/plain": [
       "     Math  Reading  Writing\n",
       "0      48       68       63\n",
       "1      62       81       72\n",
       "2      79       80       78\n",
       "3      76       83       79\n",
       "4      59       64       62\n",
       "..    ...      ...      ...\n",
       "995    72       74       70\n",
       "996    73       86       90\n",
       "997    89       87       94\n",
       "998    83       82       78\n",
       "999    66       66       72\n",
       "\n",
       "[1000 rows x 3 columns]"
      ]
     },
     "execution_count": 29,
     "metadata": {},
     "output_type": "execute_result"
    }
   ],
   "source": [
    "dataset = pd.read_csv(path2)\n",
    "dataset"
   ]
  },
  {
   "cell_type": "code",
   "execution_count": 30,
   "metadata": {
    "id": "bV_HkzhtG1r5"
   },
   "outputs": [
    {
     "data": {
      "text/html": [
       "<div>\n",
       "<style scoped>\n",
       "    .dataframe tbody tr th:only-of-type {\n",
       "        vertical-align: middle;\n",
       "    }\n",
       "\n",
       "    .dataframe tbody tr th {\n",
       "        vertical-align: top;\n",
       "    }\n",
       "\n",
       "    .dataframe thead th {\n",
       "        text-align: right;\n",
       "    }\n",
       "</style>\n",
       "<table border=\"1\" class=\"dataframe\">\n",
       "  <thead>\n",
       "    <tr style=\"text-align: right;\">\n",
       "      <th></th>\n",
       "      <th>Math</th>\n",
       "      <th>Reading</th>\n",
       "      <th>Writing</th>\n",
       "    </tr>\n",
       "  </thead>\n",
       "  <tbody>\n",
       "    <tr>\n",
       "      <th>0</th>\n",
       "      <td>48</td>\n",
       "      <td>68</td>\n",
       "      <td>63</td>\n",
       "    </tr>\n",
       "    <tr>\n",
       "      <th>1</th>\n",
       "      <td>62</td>\n",
       "      <td>81</td>\n",
       "      <td>72</td>\n",
       "    </tr>\n",
       "    <tr>\n",
       "      <th>2</th>\n",
       "      <td>79</td>\n",
       "      <td>80</td>\n",
       "      <td>78</td>\n",
       "    </tr>\n",
       "    <tr>\n",
       "      <th>3</th>\n",
       "      <td>76</td>\n",
       "      <td>83</td>\n",
       "      <td>79</td>\n",
       "    </tr>\n",
       "    <tr>\n",
       "      <th>4</th>\n",
       "      <td>59</td>\n",
       "      <td>64</td>\n",
       "      <td>62</td>\n",
       "    </tr>\n",
       "  </tbody>\n",
       "</table>\n",
       "</div>"
      ],
      "text/plain": [
       "   Math  Reading  Writing\n",
       "0    48       68       63\n",
       "1    62       81       72\n",
       "2    79       80       78\n",
       "3    76       83       79\n",
       "4    59       64       62"
      ]
     },
     "execution_count": 30,
     "metadata": {},
     "output_type": "execute_result"
    }
   ],
   "source": [
    "dataset.head(5)"
   ]
  },
  {
   "cell_type": "code",
   "execution_count": 31,
   "metadata": {},
   "outputs": [
    {
     "data": {
      "text/html": [
       "<div>\n",
       "<style scoped>\n",
       "    .dataframe tbody tr th:only-of-type {\n",
       "        vertical-align: middle;\n",
       "    }\n",
       "\n",
       "    .dataframe tbody tr th {\n",
       "        vertical-align: top;\n",
       "    }\n",
       "\n",
       "    .dataframe thead th {\n",
       "        text-align: right;\n",
       "    }\n",
       "</style>\n",
       "<table border=\"1\" class=\"dataframe\">\n",
       "  <thead>\n",
       "    <tr style=\"text-align: right;\">\n",
       "      <th></th>\n",
       "      <th>Math</th>\n",
       "      <th>Reading</th>\n",
       "      <th>Writing</th>\n",
       "    </tr>\n",
       "  </thead>\n",
       "  <tbody>\n",
       "    <tr>\n",
       "      <th>995</th>\n",
       "      <td>72</td>\n",
       "      <td>74</td>\n",
       "      <td>70</td>\n",
       "    </tr>\n",
       "    <tr>\n",
       "      <th>996</th>\n",
       "      <td>73</td>\n",
       "      <td>86</td>\n",
       "      <td>90</td>\n",
       "    </tr>\n",
       "    <tr>\n",
       "      <th>997</th>\n",
       "      <td>89</td>\n",
       "      <td>87</td>\n",
       "      <td>94</td>\n",
       "    </tr>\n",
       "    <tr>\n",
       "      <th>998</th>\n",
       "      <td>83</td>\n",
       "      <td>82</td>\n",
       "      <td>78</td>\n",
       "    </tr>\n",
       "    <tr>\n",
       "      <th>999</th>\n",
       "      <td>66</td>\n",
       "      <td>66</td>\n",
       "      <td>72</td>\n",
       "    </tr>\n",
       "  </tbody>\n",
       "</table>\n",
       "</div>"
      ],
      "text/plain": [
       "     Math  Reading  Writing\n",
       "995    72       74       70\n",
       "996    73       86       90\n",
       "997    89       87       94\n",
       "998    83       82       78\n",
       "999    66       66       72"
      ]
     },
     "execution_count": 31,
     "metadata": {},
     "output_type": "execute_result"
    }
   ],
   "source": [
    "dataset.tail(5)"
   ]
  },
  {
   "cell_type": "code",
   "execution_count": 32,
   "metadata": {},
   "outputs": [
    {
     "name": "stdout",
     "output_type": "stream",
     "text": [
      "<class 'pandas.core.frame.DataFrame'>\n",
      "RangeIndex: 1000 entries, 0 to 999\n",
      "Data columns (total 3 columns):\n",
      " #   Column   Non-Null Count  Dtype\n",
      "---  ------   --------------  -----\n",
      " 0   Math     1000 non-null   int64\n",
      " 1   Reading  1000 non-null   int64\n",
      " 2   Writing  1000 non-null   int64\n",
      "dtypes: int64(3)\n",
      "memory usage: 23.6 KB\n"
     ]
    }
   ],
   "source": [
    "dataset.info()"
   ]
  },
  {
   "cell_type": "code",
   "execution_count": 33,
   "metadata": {},
   "outputs": [],
   "source": [
    "math = dataset['Math'].to_numpy()\n",
    "read = dataset['Reading'].to_numpy()\n",
    "write = dataset['Writing'].to_numpy()"
   ]
  },
  {
   "cell_type": "code",
   "execution_count": 34,
   "metadata": {
    "id": "cYDbUvGcG4EJ"
   },
   "outputs": [
    {
     "name": "stdout",
     "output_type": "stream",
     "text": [
      "Proceed Further\n"
     ]
    }
   ],
   "source": [
    "# Sanity Check\n",
    "if math.shape == read.shape == write.shape:\n",
    "  print(\"Proceed Further\")\n",
    "else:\n",
    "  print(\"Array Conversion Error: Try Again\")"
   ]
  },
  {
   "cell_type": "markdown",
   "metadata": {
    "id": "jnfXVtTho52P"
   },
   "source": [
    "### Visualize the Dataset."
   ]
  },
  {
   "cell_type": "code",
   "execution_count": 60,
   "metadata": {
    "colab": {
     "base_uri": "https://localhost:8080/",
     "height": 246
    },
    "executionInfo": {
     "elapsed": 7,
     "status": "error",
     "timestamp": 1704332136528,
     "user": {
      "displayName": "Basudeo Shrestha",
      "userId": "04857372663289540838"
     },
     "user_tz": -345
    },
    "id": "YUhVrywkok_q",
    "outputId": "3c60c51d-54d1-49cc-c92d-436dd2bb6ad2"
   },
   "outputs": [
    {
     "data": {
      "text/plain": [
       "<Figure size 1000x1000 with 0 Axes>"
      ]
     },
     "metadata": {},
     "output_type": "display_data"
    }
   ],
   "source": [
    "from mpl_toolkits.mplot3d import Axes3D\n",
    "# Ploting the scores as scatter plot\n",
    "fig = plt.figure()\n",
    "ax = Axes3D(fig)\n",
    "ax.scatter(math, read, write, color='#ef1234')\n",
    "plt.show()"
   ]
  },
  {
   "cell_type": "markdown",
   "metadata": {
    "id": "U8I8hv_WpNlW"
   },
   "source": [
    "### Store the arrays in the Matrix Form:\n",
    "Implement Following Equations:\n",
    "\n",
    "\\begin{align}\n",
    "        \\mathbf{Y} = \\theta^T X + \\theta_0\n",
    "    \\end{align}\n",
    "In Machine Learning parameters $\\theta$ are also called weights, so from this step onwards we represent $\\theta$ as $\\textbf{W}$.\n",
    "\n",
    "Here-Now:\n",
    "\\begin{align}\n",
    "        \\mathbf{Y} = W^T X + W_0\n",
    "    \\end{align}\n",
    "\n",
    "\\begin{align}\n",
    "        \\mathbf{W} = [\\theta_o, \\theta_1, ...., \\theta_n]^T\n",
    "    \\end{align}\n",
    "\\begin{align}\n",
    "        \\mathbf{X} = [x_o, x_1, ...., x_n]^T\n",
    "    \\end{align}"
   ]
  },
  {
   "cell_type": "code",
   "execution_count": 36,
   "metadata": {
    "id": "kQFXQW1lo-rT"
   },
   "outputs": [
    {
     "name": "stdout",
     "output_type": "stream",
     "text": [
      "8.0\n"
     ]
    }
   ],
   "source": [
    "import numpy as np\n",
    "\n",
    "# Define the feature vector X\n",
    "X = np.array([1,2,3,4]) \n",
    "\n",
    "# Define the weight vector W\n",
    "W = np.array([0.5,0.5,1.5,0.5])\n",
    "\n",
    "# Compute the predicted output Y\n",
    "Y = np.dot(W.T, X)  # Dot product of W transpose and X\n",
    "\n",
    "print(Y)\n"
   ]
  },
  {
   "cell_type": "markdown",
   "metadata": {
    "id": "WmR-btDvtKNF"
   },
   "source": [
    "## Step-2: Implement a Error/Cost Function.\n",
    "\n",
    "We will use the Cost function: Mean Square Error i.e.\n",
    "\\begin{align}\n",
    "        \\mathbf{J(\\theta)}  = \\frac{1}{2m} \\sum_{i=1}^m(y_{pred} - y_i)^2\n",
    "    \\end{align}\n",
    "\n",
    "Further Simplifications:\n",
    "\n",
    "\\begin{align}\n",
    "        \\mathbf{J(\\theta)}  = \\frac{1}{2m} \\sum_{i=1}^m(h_\\theta(x_i) - y_i)^2\n",
    "    \\end{align}\n",
    "Here:\n",
    "\\begin{align}\n",
    "  h_\\theta = \\theta_1*x\n",
    "    \\end{align}\n",
    "\n",
    "Note:\n",
    "In Machine Learning, m: denotes the length of the array (total No of rows in our case).\n",
    "\n"
   ]
  },
  {
   "cell_type": "code",
   "execution_count": 45,
   "metadata": {
    "id": "t-X-cvAiq5xm"
   },
   "outputs": [],
   "source": [
    "#Define the cost function\n",
    "def cost_function(X, Y, W):\n",
    "    \"\"\" Parameters:\n",
    "    This function finds the Mean Square Error.\n",
    "    Input parameters:\n",
    "      X: Feature Matrix\n",
    "      Y: Target Matrix\n",
    "      W: Weight Matrix\n",
    "    Output Parameters:\n",
    "      J: accumulated mean square error.\n",
    "    \"\"\"\n",
    "   # Calculate predictions\n",
    "    predictions = X.dot(W)\n",
    "    \n",
    "    # Compute the squared differences\n",
    "    squared_errors = (predictions - Y) ** 2\n",
    "    \n",
    "    # Mean of squared errors\n",
    "    J = squared_errors.mean()\n",
    "    \n",
    "    return J"
   ]
  },
  {
   "cell_type": "code",
   "execution_count": 46,
   "metadata": {
    "colab": {
     "base_uri": "https://localhost:8080/"
    },
    "id": "OVAFyGFnvIQV",
    "outputId": "053f3ac9-7692-41e5-e735-e29db012983e"
   },
   "outputs": [
    {
     "name": "stdout",
     "output_type": "stream",
     "text": [
      "4.0\n"
     ]
    }
   ],
   "source": [
    "X = np.array([[2]])\n",
    "Y = np.array([[2]])\n",
    "W = np.array([[2]])\n",
    "\n",
    "initial_cost = cost_function(X, Y, W)\n",
    "print(initial_cost)"
   ]
  },
  {
   "cell_type": "markdown",
   "metadata": {
    "id": "1KKgLWzQvvyw"
   },
   "source": [
    "## Step-3: Optimization Algorithm\n",
    "\n",
    "Our goal in this task is to minimize our error function with each input of examples(input data).\n",
    "One of the most suitable methods to do the same is\n",
    "\\begin{align}\n",
    "$\\color{red}{\\textbf{GRADIENT DESCENT ALGOROTHIM.}}$\n",
    "\\end{align}\n",
    "\n",
    "Implement GDA from Scratch.\n",
    "\n",
    "Function to estimate:\n",
    "  *   $h_\\theta(x) = \\theta^T x$\n",
    "\n",
    "Loss function to minimize:\n",
    "  *   $(h_\\theta(x) - y)^2$\n",
    "\n",
    "Gradient: Decsent update:\n",
    "  *   $\\theta_(j+1)   = \\theta_j - LR(D_\\theta)$\n",
    "  *   $D(\\theta) = 1/m * (\\theta^T * X)$ i.e. Derivative of parameters/weights.\n",
    "\n",
    "\n",
    "\n"
   ]
  },
  {
   "cell_type": "code",
   "execution_count": 47,
   "metadata": {
    "id": "ZF1sci_UvPWd"
   },
   "outputs": [],
   "source": [
    "def gradient_descent(X, Y, W, alpha, iterations):\n",
    "    \"\"\"\n",
    "    Parameters:\n",
    "    X: Feature matrix\n",
    "    Y: Target matrix\n",
    "    W: Weight matrix\n",
    "    alpha: Learning rate\n",
    "    iterations: Number of iterations\n",
    "    Returns:\n",
    "    W: Optimized weights\n",
    "    cost_history: List of cost values across iterations\n",
    "    \"\"\"\n",
    "    cost_history = [0] * iterations\n",
    "    m = len(Y)  # Number of training examples\n",
    "\n",
    "    for iteration in range(iterations):\n",
    "        # Hypothesis Values\n",
    "        Y_pred = X.dot(W)\n",
    "        \n",
    "        # Difference between Hypothesis and Actual Y\n",
    "        loss = Y_pred - Y\n",
    "        \n",
    "        # Gradient Calculation\n",
    "        dw = (1 / m) * X.T.dot(loss)\n",
    "        \n",
    "        # Update Weights using Gradient\n",
    "        W = W - alpha * dw\n",
    "        \n",
    "        # Compute and Store New Cost Value\n",
    "        cost = cost_function(X, Y, W)\n",
    "        cost_history[iteration] = cost\n",
    "\n",
    "    return W, cost_history"
   ]
  },
  {
   "cell_type": "code",
   "execution_count": 50,
   "metadata": {
    "colab": {
     "base_uri": "https://localhost:8080/"
    },
    "id": "bSLx3dJ00Ub-",
    "outputId": "86e8ecfe-1307-40f5-ce29-2c7abccf4b7c"
   },
   "outputs": [
    {
     "name": "stdout",
     "output_type": "stream",
     "text": [
      "Optimized Weights: [[0.81201193]\n",
      " [2.04905277]]\n",
      "Final Cost: 0.0032735177826713354\n"
     ]
    }
   ],
   "source": [
    "# Initialize data\n",
    "X = np.array([[1, 2], [1, 3], [1, 4], [1, 5]])  # Feature matrix with bias term\n",
    "Y = np.array([[5], [7], [9], [11]])  # Target values\n",
    "W = np.array([[0], [0]])  # Initial weights\n",
    "alpha = 0.01  # Learning rate\n",
    "iterations = 1000  # Number of iterations\n",
    "\n",
    "# Run gradient descent\n",
    "optimized_weights, cost_history = gradient_descent(X, Y, W, alpha, iterations)\n",
    "\n",
    "# Output results\n",
    "print(\"Optimized Weights:\", optimized_weights)\n",
    "print(\"Final Cost:\", cost_history[-1])\n"
   ]
  },
  {
   "cell_type": "markdown",
   "metadata": {
    "id": "kH1Zly2y7ipu"
   },
   "source": [
    "## Step-4: Evaluate a Model.\n",
    "\n",
    "In this section, we will use $b_1$ and $b_0$ calculated from step-2 to make a prediction.\n",
    "\n",
    "Lets see How Good is our model. As discussed in the lecture and Tutorial we will use Root Mean Squared Error and Coefficient of Determination( R2 )\n",
    "Mathematically:\n",
    "\\begin{align}\n",
    "        \\mathbf{RMSE}  = \\sqrt{\\sum_{i=1}^n (1/m (\\hat{y_i} - y_i)^2)}\n",
    "    \\end{align}\n",
    "\n",
    "\\begin{align}\n",
    "        \\mathbf{R^2}  = 1 - \\frac{SSR}{SST}\n",
    "    \\end{align}\n",
    "\n",
    "\\begin{align}\n",
    "         \\mathbf{SST} = \\sum_{i=1}^n (y_i - \\bar{y})^2\n",
    "    \\end{align}\n",
    "\\begin{align}\n",
    "         \\mathbf{SSR} = \\sum_{i=1}^n (y_i - \\hat{y_i})^2\n",
    "    \\end{align}"
   ]
  },
  {
   "cell_type": "code",
   "execution_count": 51,
   "metadata": {
    "id": "FpD9slr30r_y"
   },
   "outputs": [],
   "source": [
    "# Model Evaluation - RMSE\n",
    "def rmse(Y, Y_pred):\n",
    "    \"\"\"\n",
    "    This Function calculates the Root Mean Squared Error (RMSE).\n",
    "    Input Arguments:\n",
    "      Y: Array of actual (Target) Dependent Variables.\n",
    "      Y_pred: Array of predicted Dependent Variables.\n",
    "    Output Arguments:\n",
    "      rmse: Root Mean Square Error.\n",
    "    \"\"\"\n",
    "    mse = ((Y - Y_pred) ** 2).mean()  # Mean Squared Error\n",
    "    rmse = np.sqrt(mse)  # Square Root of MSE\n",
    "    return rmse\n",
    "    \n",
    "# Model Evaluation - R2\n",
    "def r2(Y, Y_pred):\n",
    "    \"\"\"\n",
    "    This Function calculates the R-Squared Error.\n",
    "    Input Arguments:\n",
    "      Y: Array of actual (Target) Dependent Variables.\n",
    "      Y_pred: Array of predicted Dependent Variables.\n",
    "    Output Arguments:\n",
    "      r2: R-Squared Error.\n",
    "    \"\"\"\n",
    "    mean_y = np.mean(Y)  # Mean of actual values\n",
    "    ss_tot = ((Y - mean_y) ** 2).sum()  # Total sum of squares\n",
    "    ss_res = ((Y - Y_pred) ** 2).sum()  # Residual sum of squares\n",
    "    r2 = 1 - (ss_res / ss_tot)  # R-squared formula\n",
    "    return r2\n"
   ]
  },
  {
   "cell_type": "markdown",
   "metadata": {
    "id": "8sqCKGKn2_N7"
   },
   "source": [
    "# Let's Check Model Performance:\n"
   ]
  },
  {
   "cell_type": "code",
   "execution_count": 52,
   "metadata": {
    "colab": {
     "base_uri": "https://localhost:8080/"
    },
    "id": "T2ZMgolG2Bq4",
    "outputId": "1e0c3c57-19de-49fd-cd51-98f7d0cb59ce"
   },
   "outputs": [
    {
     "name": "stdout",
     "output_type": "stream",
     "text": [
      "RMSE: 0.05721466457326972\n",
      "R^2: 0.9993452964315537\n"
     ]
    }
   ],
   "source": [
    "X2 = np.array([[1, 2], [1, 3], [1, 4], [1, 5]])  # Feature matrix with bias\n",
    "Y2 = np.array([[5], [7], [9], [11]])  # Target matrix\n",
    "\n",
    "new_weights = np.array([[0.81201193], [2.04905277]])\n",
    "\n",
    "# Predicted values\n",
    "Y_pred = X2.dot(new_weights)\n",
    "\n",
    "# Evaluation\n",
    "print(\"RMSE:\", rmse(Y2, Y_pred))\n",
    "print(\"R^2:\", r2(Y2, Y_pred))\n"
   ]
  },
  {
   "cell_type": "markdown",
   "metadata": {
    "id": "744MDNiG3fbP"
   },
   "source": [
    "# Section-2: Introduction to SKLEARN.\n",
    "What is scikit-learn or sklearn?\n",
    ">  \n",
    "\n",
    "1.   Scikit-learn is probably the most useful library for machine learning in python.\n",
    "2.   The sklearn library contains a lot of efficient tools for machine learning and statistical modeling\n",
    "\n",
    "> Please note that sklearn is used to build machine learning models. It should not be used for reading the data, manipulating and summarizing it. There are better libraries for that (e.g. NumPy, Pandas etc.)\n"
   ]
  },
  {
   "cell_type": "markdown",
   "metadata": {
    "id": "7fPUvp2U46RX"
   },
   "source": [
    "## Build Linear Regression with help of SKLEARN.\n"
   ]
  },
  {
   "cell_type": "code",
   "execution_count": 53,
   "metadata": {
    "colab": {
     "base_uri": "https://localhost:8080/"
    },
    "id": "qyrN7n_W3FDR",
    "outputId": "a07553f8-e5f9-442a-cffc-81f714ca636e"
   },
   "outputs": [
    {
     "name": "stdout",
     "output_type": "stream",
     "text": [
      "4.572887051836439\n",
      "0.9098901726717316\n"
     ]
    }
   ],
   "source": [
    "from sklearn.linear_model import LinearRegression\n",
    "from sklearn.metrics import mean_squared_error\n",
    "\n",
    "# X and Y Values\n",
    "X = np.array([math, read]).T\n",
    "Y = np.array(write)\n",
    "\n",
    "# Model Intialization\n",
    "reg = LinearRegression()\n",
    "# Data Fitting\n",
    "reg = reg.fit(X, Y)\n",
    "# Y Prediction\n",
    "Y_pred = reg.predict(X)\n",
    "\n",
    "# Model Evaluation\n",
    "rmse = np.sqrt(mean_squared_error(Y, Y_pred))\n",
    "r2 = reg.score(X, Y)\n",
    "\n",
    "print(rmse)\n",
    "print(r2)"
   ]
  },
  {
   "cell_type": "markdown",
   "metadata": {
    "id": "1MYP_WI56Ucz"
   },
   "source": [
    "# Practise Tasks:\n",
    "\n",
    "For the following Datasets:\n",
    "\n",
    "\n",
    "Insurance.csv: Try implementing Multiple Linear Regression from Scratch: While Doing that also practise following:\n",
    "  1.   Can you Identify Qualitative and Quantitative Varaible.\n",
    "  2.   Drop all the Qualitative Varaible from the dataframe.\n",
    "  3.   If you do not want to drop the qualitative varaible, you can convert them into numeric variable as you did in Assignment-1. {You can also try sklearn label encoder function.}\n",
    "  4.   Practise your Visualization Skills.\n",
    "  \n",
    "\n"
   ]
  },
  {
   "cell_type": "code",
   "execution_count": 59,
   "metadata": {
    "id": "d2Md5HplS1iC"
   },
   "outputs": [
    {
     "name": "stderr",
     "output_type": "stream",
     "text": [
      "C:\\Users\\LOQ\\AppData\\Local\\Programs\\Python\\Python313\\Lib\\site-packages\\sklearn\\metrics\\_regression.py:492: FutureWarning: 'squared' is deprecated in version 1.4 and will be removed in 1.6. To calculate the root mean squared error, use the function'root_mean_squared_error'.\n",
      "  warnings.warn(\n"
     ]
    },
    {
     "name": "stdout",
     "output_type": "stream",
     "text": [
      "RMSE: 4.788030543283847\n",
      "R2 Score: 0.9084155129001201\n"
     ]
    },
    {
     "data": {
      "image/png": "[encoded data removed]",
      "text/plain": [
       "<Figure size 1000x1000 with 1 Axes>"
      ]
     },
     "metadata": {},
     "output_type": "display_data"
    }
   ],
   "source": [
    "import pandas as pd\n",
    "from sklearn.model_selection import train_test_split\n",
    "from sklearn.linear_model import LinearRegression\n",
    "from sklearn.metrics import mean_squared_error, r2_score\n",
    "import matplotlib.pyplot as plt\n",
    "import seaborn as sns\n",
    "\n",
    "# Load Dataset\n",
    "data = pd.read_csv('student.csv')\n",
    "\n",
    "# Assuming 'Writing' is the target variable\n",
    "X = data[['Math', 'Reading']]  # Features\n",
    "Y = data['Writing']  # Target\n",
    "\n",
    "# Split Data (80% train, 20% test)\n",
    "X_train, X_test, Y_train, Y_test = train_test_split(X, Y, test_size=0.2, random_state=42)\n",
    "\n",
    "# Train Model\n",
    "reg = LinearRegression()\n",
    "reg.fit(X_train, Y_train)\n",
    "\n",
    "# Predict\n",
    "Y_pred = reg.predict(X_test)\n",
    "\n",
    "# Evaluate\n",
    "rmse = mean_squared_error(Y_test, Y_pred, squared=False)\n",
    "r2 = r2_score(Y_test, Y_pred)\n",
    "\n",
    "print(\"RMSE:\", rmse)\n",
    "print(\"R2 Score:\", r2)\n",
    "\n",
    "# Visualize Predictions\n",
    "plt.scatter(Y_test, Y_pred, color='blue', label='Predictions')\n",
    "plt.plot([min(Y_test), max(Y_test)], [min(Y_test), max(Y_test)], color='red', label='Ideal Fit')\n",
    "plt.xlabel('Actual Scores')\n",
    "plt.ylabel('Predicted Scores')\n",
    "plt.title('Actual vs Predicted Writing Scores')\n",
    "plt.legend()\n",
    "plt.show()"
   ]
  },
  {
   "cell_type": "code",
   "execution_count": null,
   "metadata": {},
   "outputs": [],
   "source": []
  }
 ],
 "metadata": {
  "colab": {
   "provenance": [
    {
     "file_id": "14Egmi6gxJ6-5QB5OFcoI7Km9yM-bbcQE",
     "timestamp": 1734612109513
    }
   ]
  },
  "kernelspec": {
   "display_name": "Python 3 (ipykernel)",
   "language": "python",
   "name": "python3"
  },
  "language_info": {
   "codemirror_mode": {
    "name": "ipython",
    "version": 3
   },
   "file_extension": ".py",
   "mimetype": "text/x-python",
   "name": "python",
   "nbconvert_exporter": "python",
   "pygments_lexer": "ipython3",
   "version": "3.13.0"
  }
 },
 "nbformat": 4,
 "nbformat_minor": 4
}
