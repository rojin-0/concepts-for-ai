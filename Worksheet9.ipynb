{
 "cells": [
  {
   "cell_type": "code",
   "execution_count": 8,
   "id": "31b20582-5d1d-4ae9-9442-6d0ff79c11c8",
   "metadata": {},
   "outputs": [],
   "source": [
    "import numpy as np\n",
    "import pandas as pd\n",
    "import re\n",
    "import nltk\n",
    "from nltk.corpus import stopwords\n",
    "from nltk.stem import PorterStemmer\n",
    "from sklearn.model_selection import train_test_split\n",
    "from sklearn.feature_extraction.text import CountVectorizer\n",
    "from sklearn.naive_bayes import MultinomialNB\n",
    "from sklearn.metrics import accuracy_score, classification_report, confusion_matrix, roc_auc_score"
   ]
  },
  {
   "cell_type": "code",
   "execution_count": 9,
   "id": "48c5af20-27a1-47a1-842c-092905af246d",
   "metadata": {},
   "outputs": [
    {
     "name": "stderr",
     "output_type": "stream",
     "text": [
      "[nltk_data] Downloading package stopwords to\n",
      "[nltk_data]     C:\\Users\\LOQ\\AppData\\Roaming\\nltk_data...\n",
      "[nltk_data]   Unzipping corpora\\stopwords.zip.\n"
     ]
    },
    {
     "data": {
      "text/plain": [
       "True"
      ]
     },
     "execution_count": 9,
     "metadata": {},
     "output_type": "execute_result"
    }
   ],
   "source": [
    "# Load dataset\n",
    "from sklearn.datasets import load_files\n",
    "nltk.download('stopwords')"
   ]
  },
  {
   "cell_type": "code",
   "execution_count": 12,
   "id": "4b2a8c22-e20b-4895-82e6-4b33921ba059",
   "metadata": {},
   "outputs": [],
   "source": [
    "# Load IMDB dataset\n",
    "movie_reviews = pd.read_csv(\"IMDB Dataset.csv\")\n",
    "\n",
    "# Assuming the dataset has 'review' and 'sentiment' columns\n",
    "X = movie_reviews['review']\n",
    "y = movie_reviews['sentiment'].map({'positive': 1, 'negative': 0})  # Convert labels to binary (1, 0)\n"
   ]
  },
  {
   "cell_type": "code",
   "execution_count": null,
   "id": "4a8a204f-2c7f-494f-9d8f-a1fc8cd18caf",
   "metadata": {},
   "outputs": [],
   "source": [
    "# Preprocessing\n",
    "def preprocess_text(text):\n",
    "    text = text.lower()  # Convert to lowercase\n",
    "    text = re.sub(r'[^a-z]', ' ', text)  # Remove non-alphabetic characters\n",
    "    words = text.split()\n",
    "    words = [word for word in words if word not in stopwords.words('english')]  # Remove stopwords\n",
    "    stemmer = PorterStemmer()\n",
    "    words = [stemmer.stem(word) for word in words]  # Apply stemming\n",
    "    return ' '.join(words)\n",
    "\n",
    "X = X.apply(preprocess_text)\n"
   ]
  },
  {
   "cell_type": "code",
   "execution_count": null,
   "id": "4f3e6173-2520-4068-8b31-24fdd54b2c86",
   "metadata": {},
   "outputs": [],
   "source": [
    "# Split dataset\n",
    "X_train, X_test, y_train, y_test = train_test_split(X, y, test_size=0.2, random_state=42)\n"
   ]
  },
  {
   "cell_type": "code",
   "execution_count": null,
   "id": "c1bc7dc6-2d56-40b3-9eee-d27721f60d4e",
   "metadata": {},
   "outputs": [],
   "source": [
    "# Bag-of-Words model\n",
    "vectorizer = CountVectorizer()\n",
    "X_train_vec = vectorizer.fit_transform(X_train)\n",
    "X_test_vec = vectorizer.transform(X_test)\n"
   ]
  },
  {
   "cell_type": "code",
   "execution_count": null,
   "id": "a534ff11-6ef8-4656-93ab-7b1764445fc5",
   "metadata": {},
   "outputs": [],
   "source": [
    "# Train Naive Bayes classifier\n",
    "classifier = MultinomialNB()\n",
    "classifier.fit(X_train_vec, y_train)"
   ]
  },
  {
   "cell_type": "code",
   "execution_count": null,
   "id": "01348b12-3c38-4adf-af41-8710727c974f",
   "metadata": {},
   "outputs": [],
   "source": [
    "# Predictions\n",
    "y_pred = classifier.predict(X_test_vec)\n",
    "y_prob = classifier.predict_proba(X_test_vec)[:, 1]"
   ]
  },
  {
   "cell_type": "code",
   "execution_count": null,
   "id": "ad14bd34-32d3-428e-b3b1-74f3b63b894c",
   "metadata": {},
   "outputs": [],
   "source": [
    "# Evaluation\n",
    "accuracy = accuracy_score(y_test, y_pred)\n",
    "report = classification_report(y_test, y_pred)\n",
    "conf_matrix = confusion_matrix(y_test, y_pred)\n",
    "roc_auc = roc_auc_score(y_test, y_prob)\n",
    "\n",
    "print(f\"Accuracy: {accuracy:.4f}\")\n",
    "print(\"Classification Report:\\n\", report)\n",
    "print(\"Confusion Matrix:\\n\", conf_matrix)\n",
    "print(f\"ROC-AUC Score: {roc_auc:.4f}\")"
   ]
  },
  {
   "cell_type": "code",
   "execution_count": null,
   "id": "328c10f8-7859-4981-87e6-860354559db2",
   "metadata": {},
   "outputs": [],
   "source": []
  },
  {
   "cell_type": "code",
   "execution_count": null,
   "id": "25fba131-a20b-4f22-9381-8a9078221e35",
   "metadata": {},
   "outputs": [],
   "source": [
    "import numpy as np\n",
    "import pandas as pd\n",
    "import matplotlib.pyplot as plt\n",
    "from sklearn.model_selection import train_test_split\n",
    "from sklearn.preprocessing import StandardScaler\n",
    "from sklearn.linear_model import LogisticRegression\n",
    "from sklearn.feature_selection import RFE\n",
    "from sklearn.metrics import accuracy_score, classification_report, confusion_matrix, roc_auc_score\n",
    "\n",
    "# Load dataset from UCI\n",
    "url = \"https://archive.ics.uci.edu/ml/machine-learning-databases/breast-cancer-wisconsin/wpbc.data\"\n",
    "\n",
    "# Define column names based on UCI documentation\n",
    "columns = [\"ID\", \"Outcome\"] + [f\"Feature_{i}\" for i in range(1, 32)]  # Modify if needed\n",
    "\n",
    "# Load dataset\n",
    "data = pd.read_csv(url, header=None, names=columns)\n",
    "\n",
    "# Drop ID column if not needed\n",
    "data = data.drop(columns=[\"ID\"])\n",
    "\n",
    "# Convert Outcome to binary (assuming 'R' and 'N' represent recurrence and non-recurrence)\n",
    "data['Outcome'] = data['Outcome'].map({'R': 1, 'N': 0})\n",
    "\n",
    "# Basic EDA\n",
    "print(data.describe())\n",
    "print(data.isnull().sum())\n"
   ]
  },
  {
   "cell_type": "code",
   "execution_count": null,
   "id": "43e690ef-23a2-44e0-8909-037ced7e5b8c",
   "metadata": {},
   "outputs": [],
   "source": [
    "# Handle missing values (if any)\n",
    "data = data.dropna()\n",
    "\n",
    "# Split features and target\n",
    "X = data.drop(columns=['Outcome'])  # Using 'Outcome' as the target variable\n",
    "y = data['Outcome']\n",
    "\n",
    "# Split dataset\n",
    "X_train, X_test, y_train, y_test = train_test_split(X, y, test_size=0.2, random_state=42)\n",
    "\n",
    "# Feature Scaling\n",
    "scaler = StandardScaler()\n",
    "X_train = scaler.fit_transform(X_train)\n",
    "X_test = scaler.transform(X_test)\n",
    "\n",
    "# Recursive Feature Elimination (RFE)\n",
    "model = LogisticRegression()\n",
    "rfe = RFE(model, n_features_to_select=5)\n",
    "rfe.fit(X_train, y_train)\n",
    "\n",
    "# Selected Features\n",
    "selected_features = X.columns[rfe.support_]\n",
    "print(\"Selected Features:\", selected_features)\n",
    "\n",
    "# Train model with selected features\n",
    "X_train_selected = X_train[:, rfe.support_]\n",
    "X_test_selected = X_test[:, rfe.support_]\n",
    "model.fit(X_train_selected, y_train)\n",
    "\n",
    "# Predictions\n",
    "y_pred = model.predict(X_test_selected)\n",
    "y_prob = model.predict_proba(X_test_selected)[:, 1]\n",
    "\n",
    "# Evaluation\n",
    "accuracy = accuracy_score(y_test, y_pred)\n",
    "report = classification_report(y_test, y_pred)\n",
    "conf_matrix = confusion_matrix(y_test, y_pred)\n",
    "roc_auc = roc_auc_score(y_test, y_prob)\n",
    "\n",
    "print(f\"Accuracy: {accuracy:.4f}\")\n",
    "print(\"Classification Report:\\n\", report)\n",
    "print(\"Confusion Matrix:\\n\", conf_matrix)\n",
    "print(f\"ROC-AUC Score: {roc_auc:.4f}\")"
   ]
  },
  {
   "cell_type": "code",
   "execution_count": null,
   "id": "bbe929b1-0cdd-472a-90ff-d323c341863c",
   "metadata": {},
   "outputs": [],
   "source": [
    "# Visualize feature ranking\n",
    "plt.figure(figsize=(10,6))\n",
    "plt.barh(X.columns, rfe.ranking_)\n",
    "plt.xlabel(\"Feature Ranking\")\n",
    "plt.ylabel(\"Features\")\n",
    "plt.title(\"Feature Selection Using RFE\")\n",
    "plt.show()"
   ]
  }
 ],
 "metadata": {
  "kernelspec": {
   "display_name": "Python 3 (ipykernel)",
   "language": "python",
   "name": "python3"
  },
  "language_info": {
   "codemirror_mode": {
    "name": "ipython",
    "version": 3
   },
   "file_extension": ".py",
   "mimetype": "text/x-python",
   "name": "python",
   "nbconvert_exporter": "python",
   "pygments_lexer": "ipython3",
   "version": "3.13.0"
  }
 },
 "nbformat": 4,
 "nbformat_minor": 5
}
